{
 "cells": [
  {
   "cell_type": "code",
   "execution_count": null,
   "metadata": {},
   "outputs": [],
   "source": []
  }
 ],
 "metadata": {
  "interpreter": {
   "hash": "6d92917f6dd64715933e4c28f48f65965a16ef1d256069b9ee18b7ad62ae7f27"
  },
  "kernelspec": {
   "display_name": "Python 3.7.11 64-bit ('openmmlab': conda)",
   "language": "python",
   "name": "python3"
  },
  "language_info": {
   "name": "python",
   "version": "3.7.11"
  },
  "orig_nbformat": 4
 },
 "nbformat": 4,
 "nbformat_minor": 2
}
