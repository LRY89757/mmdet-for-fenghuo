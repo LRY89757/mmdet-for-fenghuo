{
 "cells": [
  {
   "cell_type": "code",
   "execution_count": 1,
   "metadata": {},
   "outputs": [],
   "source": [
    "import torch\n",
    "import cv2\n",
    "import torchvision as tv"
   ]
  },
  {
   "cell_type": "code",
   "execution_count": 2,
   "metadata": {},
   "outputs": [],
   "source": [
    "import os\n",
    "import glob"
   ]
  },
  {
   "cell_type": "code",
   "execution_count": 3,
   "metadata": {},
   "outputs": [],
   "source": [
    "from mmdet.apis import inference_detector, init_detector"
   ]
  },
  {
   "cell_type": "code",
   "execution_count": 4,
   "metadata": {},
   "outputs": [
    {
     "name": "stdout",
     "output_type": "stream",
     "text": [
      "(tensor([2.]), tensor([3., 4., 5., 6.]), 3) 3\n"
     ]
    }
   ],
   "source": [
    "out = ()\n",
    "b = (torch.Tensor([2]), torch.Tensor([3, 4, 5, 6]))\n",
    "out = out + b\n",
    "c = (3, )\n",
    "out = out + c\n",
    "print(out, len(out))"
   ]
  },
  {
   "cell_type": "code",
   "execution_count": 7,
   "metadata": {},
   "outputs": [
    {
     "name": "stdout",
     "output_type": "stream",
     "text": [
      "Use load_from_local loader\n"
     ]
    },
    {
     "name": "stderr",
     "output_type": "stream",
     "text": [
      "/mnt/data01/home/lry/projects/mmdetection/mmdet/datasets/utils.py:69: UserWarning: \"ImageToTensor\" pipeline is replaced by \"DefaultFormatBundle\" for batch inference. It is recommended to manually replace it in the test data pipeline in your config file.\n",
      "  'data pipeline in your config file.', UserWarning)\n"
     ]
    },
    {
     "name": "stdout",
     "output_type": "stream",
     "text": [
      "([array([[8.0052423e+02, 6.9058331e+02, 3.7584797e+03, 2.9662363e+03,\n",
      "        9.9917632e-01]], dtype=float32)], [[array([[False, False, False, ..., False, False, False],\n",
      "       [False, False, False, ..., False, False, False],\n",
      "       [False, False, False, ..., False, False, False],\n",
      "       ...,\n",
      "       [False, False, False, ..., False, False, False],\n",
      "       [False, False, False, ..., False, False, False],\n",
      "       [False, False, False, ..., False, False, False]])]])\n"
     ]
    }
   ],
   "source": [
    "# 首先构建detector得到我们想要的result\n",
    "checkpoints = '/home/lry/projects/mmdetection/work_dirs/mask_rcnn_r50_caffe_fpn_mstrain-poly_1x_fenghuo/latest.pth'\n",
    "config = '/home/lry/projects/mmdetection/configs/fenghuo/mask_rcnn_r50_caffe_fpn_mstrain-poly_1x_fenghuo.py'\n",
    "img = '/home/lry/projects/mmdetection/data/780b_std/val/IMG_20211021_153937.jpg'\n",
    "\n",
    "model = init_detector(config=config, checkpoint=checkpoints, device='cuda:2')\n",
    "\n",
    "result = inference_detector(model, img)\n",
    "\n",
    "# show_result_pyplot(model, img, result)\n",
    "model.show_result(img, result, out_file='/home/lry/projects/mmdetection/lry/image_processing/hello.jpg')\n",
    "print(result)"
   ]
  },
  {
   "cell_type": "code",
   "execution_count": null,
   "metadata": {},
   "outputs": [],
   "source": []
  }
 ],
 "metadata": {
  "interpreter": {
   "hash": "6d92917f6dd64715933e4c28f48f65965a16ef1d256069b9ee18b7ad62ae7f27"
  },
  "kernelspec": {
   "display_name": "Python 3.7.11 64-bit ('openmmlab': conda)",
   "language": "python",
   "name": "python3"
  },
  "language_info": {
   "codemirror_mode": {
    "name": "ipython",
    "version": 3
   },
   "file_extension": ".py",
   "mimetype": "text/x-python",
   "name": "python",
   "nbconvert_exporter": "python",
   "pygments_lexer": "ipython3",
   "version": "3.7.11"
  },
  "orig_nbformat": 4
 },
 "nbformat": 4,
 "nbformat_minor": 2
}
